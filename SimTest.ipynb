{
 "cells": [
  {
   "cell_type": "code",
   "execution_count": 15,
   "metadata": {},
   "outputs": [],
   "source": [
    "from Simulation import FireMapEnv\n",
    "import numpy as np\n",
    "from tqdm import tqdm\n",
    "\n",
    "def get_actions(size: float) -> tuple[int, int]:\n",
    "    cells = size / 3\n",
    "\n",
    "    # --- CHECKERBOARD ---\n",
    "    if np.random.random() > 0.5:\n",
    "        x = 1 + 4 * np.random.randint(0, (cells - 1) // 4)\n",
    "        y = np.random.randint(0, cells)\n",
    "    else:\n",
    "        x = np.random.randint(0, cells)\n",
    "        y = 1 + 4 * np.random.randint(0, (cells - 1) // 4)\n",
    "    \n",
    "    # --- BORDER ---\n",
    "    # if np.random.random() > 0.5:\n",
    "    #     if np.random.random() > 0.5:\n",
    "    #         x = np.random.randint(0, cells // 8)\n",
    "    #         y = np.random.randint(0, cells)\n",
    "    #     else:\n",
    "    #         x = np.random.randint(7 * cells // 8, cells)\n",
    "    #         y = np.random.randint(0, cells)\n",
    "    # else:\n",
    "    #     if np.random.random() > 0.5:\n",
    "    #         x = np.random.randint(0, cells)\n",
    "    #         y = np.random.randint(0, cells // 8)\n",
    "    #     else:\n",
    "    #         x = np.random.randint(0, cells)\n",
    "    #         y = np.random.randint(7 * cells // 8, cells)\n",
    "    \n",
    "    # --- QUADRANT ---\n",
    "    # x = np.random.randint(0, cells // 2)\n",
    "    # y = np.random.randint(0, cells // 2)\n",
    "\n",
    "    return x, y\n",
    "\n",
    "def get_smart_actions(arr: np.array) -> list[tuple[int, int]]:\n",
    "    flat = arr.flatten()\n",
    "    try:\n",
    "        indices = np.random.choice(len(flat), size=3, replace=False, p=flat)\n",
    "        coordinates = np.unravel_index(indices, arr.shape)\n",
    "        return list(zip(coordinates[0] // 3, coordinates[1] // 3)) \n",
    "    except:\n",
    "        return []\n",
    "\n",
    "def simulate_agent(seed: int = None, max_generations: int = 1000, render: bool = False):\n",
    "    sim = FireMapEnv()\n",
    "    sim.reset(seed=seed)\n",
    "    generations = 0\n",
    "\n",
    "    for _ in range(headstart // batch_size):\n",
    "        for _ in range(batch_size):\n",
    "            sim.step([])\n",
    "            generations += 1\n",
    "        if render: sim.render(detailed)\n",
    "\n",
    "    done = False\n",
    "    actions = []\n",
    "    while not done and generations < max_generations:\n",
    "        for _ in range(batch_size):\n",
    "            _, _, done, info = sim.step(actions)\n",
    "            generations += 1\n",
    "            actions = get_smart_actions(info)\n",
    "            # actions = [get_actions(90) for _ in range(3)]\n",
    "        if render: sim.render(detailed)\n",
    "\n",
    "    return sim.step([])\n",
    "\n",
    "def simulate(seed: int = None, max_generations: int = 1000, render: bool = False):\n",
    "    sim = FireMapEnv()\n",
    "    sim.reset(seed=seed)\n",
    "    generations = 0\n",
    "\n",
    "    for _ in range(headstart // batch_size):\n",
    "        for _ in range(batch_size):\n",
    "            sim.step([])\n",
    "            generations += 1\n",
    "        if render: sim.render(detailed)\n",
    "\n",
    "    done = False\n",
    "    while not done and generations < max_generations:\n",
    "        for _ in range(batch_size):\n",
    "            _, _, done, _ = sim.step([])\n",
    "            generations += 1\n",
    "        if render: sim.render(detailed)\n",
    "\n",
    "    return sim.step([])\n",
    "\n",
    "detailed = False\n",
    "batch_size = 5\n",
    "headstart = 15"
   ]
  },
  {
   "cell_type": "code",
   "execution_count": 16,
   "metadata": {},
   "outputs": [],
   "source": [
    "def fire_has_reached_edge(arr: np.array) -> bool:\n",
    "    border = np.concatenate((arr[0, :], arr[-1, :], arr[:, 0], arr[:, -1]))\n",
    "    return not np.all(border >= 0)"
   ]
  },
  {
   "cell_type": "code",
   "execution_count": 17,
   "metadata": {},
   "outputs": [
    {
     "name": "stderr",
     "output_type": "stream",
     "text": [
      "100%|██████████| 10/10 [00:26<00:00,  2.63s/it]"
     ]
    },
    {
     "name": "stdout",
     "output_type": "stream",
     "text": [
      "Failure: 0 / 10\n"
     ]
    },
    {
     "name": "stderr",
     "output_type": "stream",
     "text": [
      "\n"
     ]
    }
   ],
   "source": [
    "import matplotlib.pyplot as plt\n",
    "\n",
    "render = False\n",
    "num_interations = 10\n",
    "max_generations = 1000\n",
    "\n",
    "reached_edge = 0\n",
    "\n",
    "for seed in tqdm(range(1,1 + num_interations)):\n",
    "    obs, reward, done, info = simulate_agent(seed, max_generations, render)\n",
    "    if fire_has_reached_edge(obs[:,:,1]): reached_edge += 1\n",
    "\n",
    "print(f'Failure: {reached_edge} / {num_interations}')\n",
    "\n"
   ]
  }
 ],
 "metadata": {
  "kernelspec": {
   "display_name": "Python 3",
   "language": "python",
   "name": "python3"
  },
  "language_info": {
   "codemirror_mode": {
    "name": "ipython",
    "version": 3
   },
   "file_extension": ".py",
   "mimetype": "text/x-python",
   "name": "python",
   "nbconvert_exporter": "python",
   "pygments_lexer": "ipython3",
   "version": "3.11.8"
  }
 },
 "nbformat": 4,
 "nbformat_minor": 2
}
